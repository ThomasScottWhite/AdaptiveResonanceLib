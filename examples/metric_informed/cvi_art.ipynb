{
 "cells": [
  {
   "cell_type": "code",
   "execution_count": null,
   "metadata": {},
   "outputs": [],
   "source": [
    "from sklearn.datasets import make_blobs\n",
    "import matplotlib.pyplot as plt\n",
    "\n",
    "from artlib import CVIART, FuzzyART\n",
    "\n",
    "\n",
    "def cluster_blobs():\n",
    "    data, target = make_blobs(n_samples=150, centers=3, cluster_std=0.50, random_state=0, shuffle=False)\n",
    "    print(\"Data has shape:\", data.shape)\n",
    "\n",
    "    params = {\n",
    "        \"rho\": 0.7,\n",
    "        \"alpha\": 0.0,\n",
    "        \"beta\": 1.0,\n",
    "    }\n",
    "    art = FuzzyART(**params)\n",
    "    cls = CVIART(art, validity=CVIART.CALINSKIHARABASZ)\n",
    "\n",
    "    X = cls.prepare_data(data)\n",
    "    print(\"Prepared data has shape:\", X.shape)\n",
    "\n",
    "    y = cls.fit_predict(X)\n",
    "\n",
    "    print(f\"{cls.n_clusters} clusters found\")\n",
    "\n",
    "    cls.visualize(X, y)\n",
    "    plt.show()\n",
    "\n",
    "\n",
    "if __name__ == \"__main__\":\n",
    "    cluster_blobs()"
   ]
  }
 ],
 "metadata": {
  "kernelspec": {
   "display_name": "base",
   "language": "python",
   "name": "python3"
  },
  "language_info": {
   "codemirror_mode": {
    "name": "ipython",
    "version": 3
   },
   "file_extension": ".py",
   "mimetype": "text/x-python",
   "name": "python",
   "nbconvert_exporter": "python",
   "pygments_lexer": "ipython3",
   "version": "3.12.5"
  }
 },
 "nbformat": 4,
 "nbformat_minor": 2
}
