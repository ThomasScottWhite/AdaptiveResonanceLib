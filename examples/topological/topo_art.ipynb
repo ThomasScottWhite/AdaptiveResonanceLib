{
 "cells": [
  {
   "cell_type": "code",
   "execution_count": null,
   "metadata": {
    "vscode": {
     "languageId": "plaintext"
    }
   },
   "outputs": [],
   "source": [
    "from sklearn.datasets import make_blobs\n",
    "import matplotlib.pyplot as plt\n",
    "\n",
    "from artlib import TopoART, FuzzyART\n",
    "\n",
    "\n",
    "def cluster_blobs():\n",
    "    data, target = make_blobs(n_samples=150, centers=3, cluster_std=0.50, random_state=0, shuffle=False)\n",
    "    print(\"Data has shape:\", data.shape)\n",
    "\n",
    "    params = {\n",
    "        \"rho\": 0.4,\n",
    "        \"alpha\": 0.8,\n",
    "        \"beta\": 1.0\n",
    "    }\n",
    "    base_art = FuzzyART(**params)\n",
    "\n",
    "    X = base_art.prepare_data(data)\n",
    "    print(\"Prepared data has shape:\", X.shape)\n",
    "\n",
    "    cls = TopoART(base_art, betta_lower=0.3, tau=150, phi=35)\n",
    "    cls = cls.fit(X, max_iter=5)\n",
    "    y = cls.labels_\n",
    "\n",
    "    print(f\"{cls.n_clusters} clusters found\")\n",
    "    print(f\"{cls.base_module.n_clusters} internal clusters found\")\n",
    "\n",
    "    print(\"Adjacency Matrix:\")\n",
    "    print(cls.adjacency)\n",
    "\n",
    "    cls.visualize(X, y)\n",
    "    plt.show()\n",
    "\n",
    "\n",
    "if __name__ == \"__main__\":\n",
    "    cluster_blobs()"
   ]
  }
 ],
 "metadata": {
  "language_info": {
   "name": "python"
  }
 },
 "nbformat": 4,
 "nbformat_minor": 2
}
