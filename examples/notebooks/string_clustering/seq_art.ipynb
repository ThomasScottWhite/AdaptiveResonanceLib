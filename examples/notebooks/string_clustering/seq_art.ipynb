{
 "cells": [
  {
   "cell_type": "code",
   "execution_count": 1,
   "metadata": {},
   "outputs": [
    {
     "name": "stdout",
     "output_type": "stream",
     "text": [
      "4 clusters found\n",
      "Cluster 0\n",
      "hello\n",
      "helsinki\n",
      "hella\n",
      "hell\n",
      "he-l-\n",
      "====================\n",
      "Cluster 1\n",
      "arkansas\n",
      "kansas\n",
      "-kansas\n",
      "====================\n",
      "Cluster 2\n",
      "advent\n",
      "adventure\n",
      "ventilation\n",
      "-ven-t-\n",
      "====================\n",
      "Cluster 3\n",
      "addition\n",
      "subtraction\n",
      "substitution\n",
      "-tion\n",
      "====================\n"
     ]
    }
   ],
   "source": [
    "import numpy as np\n",
    "\n",
    "from artlib.experimental.SeqART import SeqART\n",
    "\n",
    "\n",
    "sequences = [\n",
    "    \"hello\",\n",
    "    \"helsinki\",\n",
    "    \"hella\",\n",
    "    \"hell\",\n",
    "    \"arkansas\",\n",
    "    \"kansas\",\n",
    "    \"advent\",\n",
    "    \"adventure\",\n",
    "    \"ventilation\",\n",
    "    \"addition\",\n",
    "    \"subtraction\",\n",
    "    \"substitution\",\n",
    "]\n",
    "\n",
    "def cluster_sequences():\n",
    "    X = np.array(sequences, dtype=object)\n",
    "\n",
    "    params = {\n",
    "        \"rho\": -0.5\n",
    "    }\n",
    "    cls = SeqART(**params)\n",
    "\n",
    "    y = cls.fit_predict(X)\n",
    "\n",
    "    print(f\"{cls.n_clusters} clusters found\")\n",
    "\n",
    "    for i in range(cls.n_clusters):\n",
    "        print(f\"Cluster {i}\")\n",
    "        for s_i in range(len(sequences)):\n",
    "            if i == y[s_i]:\n",
    "                print(sequences[s_i])\n",
    "        print(cls.W[i])\n",
    "        print(\"=\" * 20)\n",
    "\n",
    "\n",
    "if __name__ == \"__main__\":\n",
    "    cluster_sequences()\n",
    "\n",
    "\n"
   ]
  }
 ],
 "metadata": {
  "kernelspec": {
   "display_name": "base",
   "language": "python",
   "name": "python3"
  },
  "language_info": {
   "codemirror_mode": {
    "name": "ipython",
    "version": 3
   },
   "file_extension": ".py",
   "mimetype": "text/x-python",
   "name": "python",
   "nbconvert_exporter": "python",
   "pygments_lexer": "ipython3",
   "version": "3.12.5"
  }
 },
 "nbformat": 4,
 "nbformat_minor": 2
}
