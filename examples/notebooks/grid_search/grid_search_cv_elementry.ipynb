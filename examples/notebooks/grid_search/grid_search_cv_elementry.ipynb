{
 "cells": [
  {
   "cell_type": "markdown",
   "metadata": {},
   "source": [
    "# Import Necessary Libraries"
   ]
  },
  {
   "cell_type": "code",
   "execution_count": 1,
   "metadata": {},
   "outputs": [],
   "source": [
    "import numpy as np\n",
    "from sklearn.datasets import make_blobs\n",
    "from sklearn.model_selection import GridSearchCV, train_test_split\n",
    "from sklearn.metrics import classification_report\n",
    "from artlib import FuzzyART\n"
   ]
  },
  {
   "cell_type": "markdown",
   "metadata": {},
   "source": [
    "# Dataset Generation\n",
    "TODO"
   ]
  },
  {
   "cell_type": "code",
   "execution_count": 2,
   "metadata": {},
   "outputs": [
    {
     "name": "stdout",
     "output_type": "stream",
     "text": [
      "Data has shape: (150, 2)\n"
     ]
    }
   ],
   "source": [
    "data, target = make_blobs(n_samples=150, centers=3, cluster_std=0.50, random_state=0, shuffle=False)\n",
    "print(\"Data has shape:\", data.shape)"
   ]
  },
  {
   "cell_type": "markdown",
   "metadata": {},
   "source": [
    "## Clustering with Fuzzy Art\n",
    "\n",
    "TODO"
   ]
  },
  {
   "cell_type": "code",
   "execution_count": 3,
   "metadata": {},
   "outputs": [
    {
     "name": "stdout",
     "output_type": "stream",
     "text": [
      "Prepared data has shape: (150, 4)\n",
      "Fitting 1 folds for each of 5 candidates, totalling 5 fits\n",
      "[CV 1/1] END ........alpha=0.0, beta=1.0, rho=0.0;, score=nan total time=   0.0s\n",
      "[CV 1/1] END .....alpha=0.0, beta=1.0, rho=0.25;, score=0.410 total time=   0.0s\n",
      "[CV 1/1] END ......alpha=0.0, beta=1.0, rho=0.5;, score=1.000 total time=   0.1s\n",
      "[CV 1/1] END ......alpha=0.0, beta=1.0, rho=0.7;, score=0.735 total time=   0.1s\n",
      "[CV 1/1] END ......alpha=0.0, beta=1.0, rho=0.9;, score=0.162 total time=   0.2s\n",
      "Best parameters:\n",
      "{'alpha': 0.0, 'beta': 1.0, 'rho': 0.5}\n",
      "              precision    recall  f1-score   support\n",
      "\n",
      "           0       1.00      1.00      1.00        50\n",
      "           1       1.00      1.00      1.00        50\n",
      "           2       1.00      1.00      1.00        50\n",
      "\n",
      "    accuracy                           1.00       150\n",
      "   macro avg       1.00      1.00      1.00       150\n",
      "weighted avg       1.00      1.00      1.00       150\n",
      "\n"
     ]
    },
    {
     "name": "stderr",
     "output_type": "stream",
     "text": [
      "/home/thomas/miniforge3/lib/python3.10/site-packages/sklearn/model_selection/_validation.py:540: FitFailedWarning: \n",
      "1 fits failed out of a total of 5.\n",
      "The score on these train-test partitions for these parameters will be set to nan.\n",
      "If these failures are not expected, you can try to debug them by setting error_score='raise'.\n",
      "\n",
      "Below are more details about the failures:\n",
      "--------------------------------------------------------------------------------\n",
      "1 fits failed with the following error:\n",
      "Traceback (most recent call last):\n",
      "  File \"/home/thomas/miniforge3/lib/python3.10/site-packages/sklearn/model_selection/_validation.py\", line 888, in _fit_and_score\n",
      "    estimator.fit(X_train, y_train, **fit_params)\n",
      "  File \"/home/thomas/Documents/AdaptiveResonanceLib/artlib/common/BaseART.py\", line 466, in fit\n",
      "    c = self.step_fit(x, match_reset_func=match_reset_func, match_reset_method=match_reset_method, epsilon=epsilon)\n",
      "  File \"/home/thomas/Documents/AdaptiveResonanceLib/artlib/common/BaseART.py\", line 351, in step_fit\n",
      "    T_values, T_cache = zip(*[self.category_choice(x, w, params=self.params) for w in self.W])\n",
      "  File \"/home/thomas/Documents/AdaptiveResonanceLib/artlib/common/BaseART.py\", line 351, in <listcomp>\n",
      "    T_values, T_cache = zip(*[self.category_choice(x, w, params=self.params) for w in self.W])\n",
      "  File \"/home/thomas/Documents/AdaptiveResonanceLib/artlib/elementary/FuzzyART.py\", line 146, in category_choice\n",
      "    return l1norm(fuzzy_and(i, w)) / (params[\"alpha\"] + l1norm(w)), None\n",
      "ZeroDivisionError: float division by zero\n",
      "\n",
      "  warnings.warn(some_fits_failed_message, FitFailedWarning)\n",
      "/home/thomas/miniforge3/lib/python3.10/site-packages/sklearn/model_selection/_search.py:1103: UserWarning: One or more of the test scores are non-finite: [       nan 0.41025718 1.         0.73512172 0.16211825]\n",
      "  warnings.warn(\n"
     ]
    }
   ],
   "source": [
    "base_params = {\n",
    "    \"rho\": 0.7,\n",
    "    \"alpha\": 0.0,\n",
    "    \"beta\": 1.0,\n",
    "}\n",
    "cls = FuzzyART(**base_params)\n",
    "\n",
    "X = cls.prepare_data(data)\n",
    "print(\"Prepared data has shape:\", X.shape)\n",
    "\n",
    "param_grid = {\n",
    "    \"rho\": [0.0, 0.25, 0.5, 0.7, 0.9],\n",
    "    \"alpha\": [0.0],\n",
    "    \"beta\": [1.0],\n",
    "}\n",
    "\n",
    "grid = GridSearchCV(\n",
    "    cls,\n",
    "    param_grid,\n",
    "    refit=True,\n",
    "    verbose=3,\n",
    "    n_jobs=1,\n",
    "    scoring=\"adjusted_rand_score\",\n",
    "    cv=[\n",
    "        (\n",
    "            np.array(\n",
    "                list(range(len(X)))\n",
    "            ),\n",
    "            np.array(\n",
    "                list(range(len(X)))\n",
    "            )\n",
    "        )\n",
    "    ]\n",
    ")\n",
    "\n",
    "grid.fit(X, target)\n",
    "\n",
    "# print best parameter after tuning\n",
    "print(\"Best parameters:\")\n",
    "print(grid.best_params_)\n",
    "grid_predictions = grid.predict(X)\n",
    "\n",
    "# print classification report\n",
    "print(classification_report(target, grid_predictions))\n",
    "\n"
   ]
  }
 ],
 "metadata": {
  "kernelspec": {
   "display_name": "base",
   "language": "python",
   "name": "python3"
  },
  "language_info": {
   "codemirror_mode": {
    "name": "ipython",
    "version": 3
   },
   "file_extension": ".py",
   "mimetype": "text/x-python",
   "name": "python",
   "nbconvert_exporter": "python",
   "pygments_lexer": "ipython3",
   "version": "3.10.14"
  }
 },
 "nbformat": 4,
 "nbformat_minor": 2
}
