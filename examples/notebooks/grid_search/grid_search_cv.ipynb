{
 "cells": [
  {
   "cell_type": "code",
   "execution_count": null,
   "metadata": {
    "vscode": {
     "languageId": "plaintext"
    }
   },
   "outputs": [],
   "source": [
    "from sklearn.datasets import load_iris\n",
    "from sklearn.model_selection import GridSearchCV, train_test_split\n",
    "from sklearn.metrics import classification_report\n",
    "\n",
    "from artlib import HypersphereART, SimpleARTMAP\n",
    "\n",
    "\n",
    "def grid_search_blobs():\n",
    "    data, target = load_iris(return_X_y=True)\n",
    "    print(\"Data has shape:\", data.shape)\n",
    "\n",
    "    base_params = {\n",
    "        \"rho\": 0.3,\n",
    "        \"alpha\": 0.0,\n",
    "        \"beta\": 1.0,\n",
    "        \"r_hat\": 0.8\n",
    "    }\n",
    "    art = HypersphereART(**base_params)\n",
    "\n",
    "    X = art.prepare_data(data)\n",
    "    print(\"Prepared data has shape:\", X.shape)\n",
    "\n",
    "    X_train, X_test, y_train, y_test = train_test_split(X, target, test_size=0.33, random_state=0)\n",
    "\n",
    "    cls = SimpleARTMAP(art)\n",
    "    # print(cls.get_params(deep=False))\n",
    "    # raise ValueError\n",
    "\n",
    "    param_grid = {\n",
    "        \"module_a__rho\": [0.0, 0.25, 0.5, 0.7, 0.9],\n",
    "        \"module_a__alpha\": [0.0],\n",
    "        \"module_a__beta\": [1.0],\n",
    "        \"module_a__r_hat\": [0.8]\n",
    "    }\n",
    "\n",
    "    grid = GridSearchCV(cls, param_grid, refit=True, verbose=3, n_jobs=1)\n",
    "\n",
    "    grid.fit(X_train, y_train)\n",
    "\n",
    "    # print best parameter after tuning\n",
    "    print(\"Best parameters:\")\n",
    "    print(grid.best_params_)\n",
    "    grid_predictions = grid.predict(X_test)\n",
    "\n",
    "    # print classification report\n",
    "    print(classification_report(y_test, grid_predictions))\n",
    "\n",
    "\n",
    "if __name__ == \"__main__\":\n",
    "    grid_search_blobs()\n"
   ]
  }
 ],
 "metadata": {
  "language_info": {
   "name": "python"
  }
 },
 "nbformat": 4,
 "nbformat_minor": 2
}
