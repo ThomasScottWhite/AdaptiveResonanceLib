{
 "cells": [
  {
   "cell_type": "markdown",
   "metadata": {},
   "source": [
    "# Import Necessary Libraries"
   ]
  },
  {
   "cell_type": "code",
   "execution_count": null,
   "metadata": {},
   "outputs": [],
   "source": [
    "from sklearn.datasets import make_blobs\n",
    "import matplotlib.pyplot as plt\n",
    "\n",
    "from artlib import CVIART, FuzzyART\n"
   ]
  },
  {
   "cell_type": "markdown",
   "metadata": {},
   "source": [
    "# Dataset Generation\n",
    "TODO"
   ]
  },
  {
   "cell_type": "code",
   "execution_count": null,
   "metadata": {},
   "outputs": [
    {
     "name": "stdout",
     "output_type": "stream",
     "text": [
      "Data has shape: (150, 4)\n"
     ]
    }
   ],
   "source": [
    "data, target = make_blobs(n_samples=150, centers=3, cluster_std=0.50, random_state=0, shuffle=False)\n",
    "print(\"Data has shape:\", data.shape)\n",
    "\n"
   ]
  },
  {
   "cell_type": "markdown",
   "metadata": {},
   "source": [
    "## Clustering with CVI Art\n",
    "\n",
    "TODO"
   ]
  },
  {
   "cell_type": "code",
   "execution_count": null,
   "metadata": {},
   "outputs": [
    {
     "name": "stdout",
     "output_type": "stream",
     "text": [
      "Prepared data has shape: (150, 4)\n",
      "Fitting 5 folds for each of 5 candidates, totalling 25 fits\n",
      "[CV 1/5] END module_a__alpha=0.0, module_a__beta=1.0, module_a__r_hat=0.8, module_a__rho=0.0;, score=0.700 total time=   0.0s\n",
      "[CV 2/5] END module_a__alpha=0.0, module_a__beta=1.0, module_a__r_hat=0.8, module_a__rho=0.0;, score=0.900 total time=   0.0s\n",
      "[CV 3/5] END module_a__alpha=0.0, module_a__beta=1.0, module_a__r_hat=0.8, module_a__rho=0.0;, score=0.950 total time=   0.0s\n",
      "[CV 4/5] END module_a__alpha=0.0, module_a__beta=1.0, module_a__r_hat=0.8, module_a__rho=0.0;, score=0.950 total time=   0.0s\n",
      "[CV 5/5] END module_a__alpha=0.0, module_a__beta=1.0, module_a__r_hat=0.8, module_a__rho=0.0;, score=0.900 total time=   0.0s\n",
      "[CV 1/5] END module_a__alpha=0.0, module_a__beta=1.0, module_a__r_hat=0.8, module_a__rho=0.25;, score=0.700 total time=   0.0s\n",
      "[CV 2/5] END module_a__alpha=0.0, module_a__beta=1.0, module_a__r_hat=0.8, module_a__rho=0.25;, score=0.900 total time=   0.0s\n",
      "[CV 3/5] END module_a__alpha=0.0, module_a__beta=1.0, module_a__r_hat=0.8, module_a__rho=0.25;, score=0.950 total time=   0.0s\n",
      "[CV 4/5] END module_a__alpha=0.0, module_a__beta=1.0, module_a__r_hat=0.8, module_a__rho=0.25;, score=0.950 total time=   0.0s\n",
      "[CV 5/5] END module_a__alpha=0.0, module_a__beta=1.0, module_a__r_hat=0.8, module_a__rho=0.25;, score=0.900 total time=   0.0s\n",
      "[CV 1/5] END module_a__alpha=0.0, module_a__beta=1.0, module_a__r_hat=0.8, module_a__rho=0.5;, score=0.650 total time=   0.0s\n",
      "[CV 2/5] END module_a__alpha=0.0, module_a__beta=1.0, module_a__r_hat=0.8, module_a__rho=0.5;, score=1.000 total time=   0.0s\n",
      "[CV 3/5] END module_a__alpha=0.0, module_a__beta=1.0, module_a__r_hat=0.8, module_a__rho=0.5;, score=1.000 total time=   0.0s\n",
      "[CV 4/5] END module_a__alpha=0.0, module_a__beta=1.0, module_a__r_hat=0.8, module_a__rho=0.5;, score=0.950 total time=   0.0s\n",
      "[CV 5/5] END module_a__alpha=0.0, module_a__beta=1.0, module_a__r_hat=0.8, module_a__rho=0.5;, score=1.000 total time=   0.0s\n",
      "[CV 1/5] END module_a__alpha=0.0, module_a__beta=1.0, module_a__r_hat=0.8, module_a__rho=0.7;, score=0.900 total time=   0.0s\n",
      "[CV 2/5] END module_a__alpha=0.0, module_a__beta=1.0, module_a__r_hat=0.8, module_a__rho=0.7;, score=1.000 total time=   0.0s\n",
      "[CV 3/5] END module_a__alpha=0.0, module_a__beta=1.0, module_a__r_hat=0.8, module_a__rho=0.7;, score=0.950 total time=   0.0s\n",
      "[CV 4/5] END module_a__alpha=0.0, module_a__beta=1.0, module_a__r_hat=0.8, module_a__rho=0.7;, score=0.950 total time=   0.0s\n",
      "[CV 5/5] END module_a__alpha=0.0, module_a__beta=1.0, module_a__r_hat=0.8, module_a__rho=0.7;, score=1.000 total time=   0.0s\n",
      "[CV 1/5] END module_a__alpha=0.0, module_a__beta=1.0, module_a__r_hat=0.8, module_a__rho=0.9;, score=0.900 total time=   0.1s\n",
      "[CV 2/5] END module_a__alpha=0.0, module_a__beta=1.0, module_a__r_hat=0.8, module_a__rho=0.9;, score=0.350 total time=   0.1s\n",
      "[CV 3/5] END module_a__alpha=0.0, module_a__beta=1.0, module_a__r_hat=0.8, module_a__rho=0.9;, score=0.400 total time=   0.1s\n",
      "[CV 4/5] END module_a__alpha=0.0, module_a__beta=1.0, module_a__r_hat=0.8, module_a__rho=0.9;, score=0.350 total time=   0.0s\n",
      "[CV 5/5] END module_a__alpha=0.0, module_a__beta=1.0, module_a__r_hat=0.8, module_a__rho=0.9;, score=0.950 total time=   0.0s\n",
      "Best parameters:\n",
      "{'module_a__alpha': 0.0, 'module_a__beta': 1.0, 'module_a__r_hat': 0.8, 'module_a__rho': 0.7}\n",
      "              precision    recall  f1-score   support\n",
      "\n",
      "           0       1.00      1.00      1.00        16\n",
      "           1       0.90      0.95      0.92        19\n",
      "           2       0.93      0.87      0.90        15\n",
      "\n",
      "    accuracy                           0.94        50\n",
      "   macro avg       0.94      0.94      0.94        50\n",
      "weighted avg       0.94      0.94      0.94        50\n",
      "\n"
     ]
    },
    {
     "name": "stderr",
     "output_type": "stream",
     "text": [
      "/home/thomas/Documents/AdaptiveResonanceLib/artlib/elementary/HypersphereART.py:129: RuntimeWarning: invalid value encountered in scalar divide\n",
      "  centroid_new = centroid + (params[\"beta\"]/2)*(i-centroid)*(1-(min(radius, i_radius)/i_radius))\n",
      "/home/thomas/Documents/AdaptiveResonanceLib/artlib/elementary/HypersphereART.py:129: RuntimeWarning: invalid value encountered in scalar divide\n",
      "  centroid_new = centroid + (params[\"beta\"]/2)*(i-centroid)*(1-(min(radius, i_radius)/i_radius))\n",
      "/home/thomas/Documents/AdaptiveResonanceLib/artlib/elementary/HypersphereART.py:129: RuntimeWarning: invalid value encountered in scalar divide\n",
      "  centroid_new = centroid + (params[\"beta\"]/2)*(i-centroid)*(1-(min(radius, i_radius)/i_radius))\n"
     ]
    }
   ],
   "source": [
    "params = {\n",
    "    \"rho\": 0.7,\n",
    "    \"alpha\": 0.0,\n",
    "    \"beta\": 1.0,\n",
    "}\n",
    "art = FuzzyART(**params)\n",
    "cls = CVIART(art, validity=CVIART.CALINSKIHARABASZ)\n",
    "\n",
    "X = cls.prepare_data(data)\n",
    "print(\"Prepared data has shape:\", X.shape)\n",
    "\n",
    "y = cls.fit_predict(X)\n",
    "\n",
    "print(f\"{cls.n_clusters} clusters found\")\n",
    "\n",
    "cls.visualize(X, y)\n",
    "plt.show()\n",
    "\n"
   ]
  }
 ],
 "metadata": {
  "kernelspec": {
   "display_name": "base",
   "language": "python",
   "name": "python3"
  },
  "language_info": {
   "codemirror_mode": {
    "name": "ipython",
    "version": 3
   },
   "file_extension": ".py",
   "mimetype": "text/x-python",
   "name": "python",
   "nbconvert_exporter": "python",
   "pygments_lexer": "ipython3",
   "version": "3.12.5"
  }
 },
 "nbformat": 4,
 "nbformat_minor": 2
}
