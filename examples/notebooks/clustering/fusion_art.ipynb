{
 "cells": [
  {
   "cell_type": "markdown",
   "metadata": {},
   "source": [
    "# Import Necessary Libraries"
   ]
  },
  {
   "cell_type": "code",
   "execution_count": 1,
   "metadata": {},
   "outputs": [],
   "source": [
    "import numpy as np\n",
    "from sklearn.datasets import make_blobs\n",
    "import matplotlib.pyplot as plt\n",
    "\n",
    "from artlib import FusionART, FuzzyART\n"
   ]
  },
  {
   "cell_type": "markdown",
   "metadata": {},
   "source": [
    "# Dataset Generation\n",
    "TODO"
   ]
  },
  {
   "cell_type": "code",
   "execution_count": 2,
   "metadata": {},
   "outputs": [
    {
     "name": "stdout",
     "output_type": "stream",
     "text": [
      "Data has shape: (150, 2)\n"
     ]
    }
   ],
   "source": [
    "data, target = make_blobs(n_samples=150, centers=3, cluster_std=0.50, random_state=0, shuffle=False)\n",
    "print(\"Data has shape:\", data.shape)\n",
    "\n",
    "data_channel_a = data[:,0].reshape((-1,1))\n",
    "data_channel_b = data[:,1].reshape((-1,1))\n"
   ]
  },
  {
   "cell_type": "markdown",
   "metadata": {},
   "source": [
    "## Clustering with Fusion Art\n",
    "\n",
    "TODO"
   ]
  },
  {
   "cell_type": "code",
   "execution_count": 3,
   "metadata": {},
   "outputs": [
    {
     "name": "stdout",
     "output_type": "stream",
     "text": [
      "Prepared data has shape: (150, 4)\n",
      "3 clusters found\n"
     ]
    },
    {
     "name": "stderr",
     "output_type": "stream",
     "text": [
      "/home/thomas/Documents/AdaptiveResonanceLib/artlib/common/BaseART.py:591: UserWarning: FusionART does not support plotting cluster bounds.\n",
      "  warn(f\"{self.__class__.__name__} does not support plotting cluster bounds.\")\n"
     ]
    },
    {
     "data": {
      "image/png": "[encoded data removed]",
      "text/plain": [
       "<Figure size 640x480 with 1 Axes>"
      ]
     },
     "metadata": {},
     "output_type": "display_data"
    }
   ],
   "source": [
    "params = {\n",
    "\"rho\": 0.5,\n",
    "\"alpha\": 0.0,\n",
    "\"beta\": 1.0\n",
    "}\n",
    "\n",
    "art_a = FuzzyART(**params)\n",
    "art_b = FuzzyART(**params)\n",
    "cls = FusionART([art_a, art_b], gamma_values=np.array([0.5, 0.5]), channel_dims=[2,2])\n",
    "\n",
    "X_channel_a = art_a.prepare_data(data_channel_a)\n",
    "X_channel_b = art_b.prepare_data(data_channel_b)\n",
    "\n",
    "X = cls.join_channel_data(channel_data=[X_channel_a, X_channel_b])\n",
    "print(\"Prepared data has shape:\", X.shape)\n",
    "\n",
    "y = cls.fit_predict(X)\n",
    "\n",
    "print(f\"{cls.n_clusters} clusters found\")\n",
    "\n",
    "cls.visualize(data, y)\n",
    "plt.show()\n"
   ]
  }
 ],
 "metadata": {
  "kernelspec": {
   "display_name": "base",
   "language": "python",
   "name": "python3"
  },
  "language_info": {
   "codemirror_mode": {
    "name": "ipython",
    "version": 3
   },
   "file_extension": ".py",
   "mimetype": "text/x-python",
   "name": "python",
   "nbconvert_exporter": "python",
   "pygments_lexer": "ipython3",
   "version": "3.10.14"
  }
 },
 "nbformat": 4,
 "nbformat_minor": 2
}
