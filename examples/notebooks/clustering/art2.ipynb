{
 "cells": [
  {
   "cell_type": "markdown",
   "metadata": {},
   "source": [
    "# Relevant Papers\n",
    ">Carpenter, G. A., & Grossberg, S. (1987b).  \n",
    ">ART 2: self-organization of stable category recognition codes for analog input patterns.  \n",
    ">Appl. Opt., 26, 4919–4930. doi:10.1364/AO.26.004919.  \n",
    "\n",
    ">Carpenter, G. A., Grossberg, S., & Rosen, D. B. (1991b).  \n",
    ">ART 2-A: An adaptive resonance algorithm for rapid category learning and recognition.  \n",
    ">Neural Networks, 4, 493 – 504. doi:10.1016/0893-6080(91) 90045-7.  "
   ]
  },
  {
   "cell_type": "markdown",
   "metadata": {},
   "source": [
    "# DISCLAIMER: DO NOT USE ART2!!!  \n",
    "IT DOES NOT WORK  \n",
    "It is provided for completeness only.  \n",
    "Stephan Grossberg himself has said ART2 does not work.  \n"
   ]
  },
  {
   "cell_type": "markdown",
   "metadata": {},
   "source": [
    "# Import Necessary Libraries"
   ]
  },
  {
   "cell_type": "code",
   "execution_count": 2,
   "metadata": {},
   "outputs": [],
   "source": [
    "from sklearn.datasets import make_blobs # Dataset generation\n",
    "import matplotlib.pyplot as plt # Plotting\n",
    "from artlib import ART2A # ART2"
   ]
  },
  {
   "cell_type": "markdown",
   "metadata": {},
   "source": [
    "# Dataset Generation\n",
    "ART2 (Adaptive Resonance Theory 2) unlike ART1 can opporate on non binary data.\n",
    "\n",
    "In the example below, we use `sklearn` to generate a dataset consisting of 150 input vectors, each of length 2."
   ]
  },
  {
   "cell_type": "code",
   "execution_count": 3,
   "metadata": {},
   "outputs": [
    {
     "name": "stdout",
     "output_type": "stream",
     "text": [
      "Data has shape: (150, 2)\n"
     ]
    }
   ],
   "source": [
    "data, target = make_blobs(n_samples=150, centers=3, cluster_std=0.50, random_state=0, shuffle=False)\n",
    "print(\"Data has shape:\", data.shape)"
   ]
  },
  {
   "cell_type": "markdown",
   "metadata": {},
   "source": [
    "## Clustering with ART2\n",
    "\n",
    "In the example below, we initialize the ART2 model with specific parameters:\n",
    "\n",
    "- `rho`: The vigilance parameter, controlling the level of similarity required for vectors to belong to the same cluster.\n",
    "- `alpha`: A parameter that controls noise suppression, helping to handle noisy data more effectively.\n",
    "- `beta`: The learning rate, which influences the speed of adaptation and category refinement.\n",
    "\n",
    "We prepare the data for input into the ART2 model using the `prepare_data` method, and then fit the model and predict cluster assignments with `fit_predict`.\n",
    "\n",
    "After the clustering process, we can visualize the clusters using the `visualize` method."
   ]
  },
  {
   "cell_type": "code",
   "execution_count": 5,
   "metadata": {},
   "outputs": [
    {
     "name": "stdout",
     "output_type": "stream",
     "text": [
      "Prepared data has shape: (150, 2)\n",
      "2 clusters found\n"
     ]
    },
    {
     "data": {
      "image/png": "[encoded data removed]",
      "text/plain": [
       "<Figure size 640x480 with 1 Axes>"
      ]
     },
     "metadata": {},
     "output_type": "display_data"
    }
   ],
   "source": [
    "params = {\n",
    "    \"rho\": 0.2,\n",
    "    \"alpha\": 0.0,\n",
    "    \"beta\": 1.0,\n",
    "}\n",
    "cls = ART2A(**params)\n",
    "\n",
    "X = cls.prepare_data(data)\n",
    "print(\"Prepared data has shape:\", X.shape)\n",
    "\n",
    "y = cls.fit_predict(X)\n",
    "\n",
    "print(f\"{cls.n_clusters} clusters found\")\n",
    "\n",
    "cls.visualize(X, y)\n",
    "plt.show()\n"
   ]
  }
 ],
 "metadata": {
  "kernelspec": {
   "display_name": "base",
   "language": "python",
   "name": "python3"
  },
  "language_info": {
   "codemirror_mode": {
    "name": "ipython",
    "version": 3
   },
   "file_extension": ".py",
   "mimetype": "text/x-python",
   "name": "python",
   "nbconvert_exporter": "python",
   "pygments_lexer": "ipython3",
   "version": "3.12.5"
  }
 },
 "nbformat": 4,
 "nbformat_minor": 2
}
