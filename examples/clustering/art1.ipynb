{
 "cells": [
  {
   "cell_type": "markdown",
   "metadata": {},
   "source": [
    "# Import Necessary Libraries"
   ]
  },
  {
   "cell_type": "code",
   "execution_count": 9,
   "metadata": {},
   "outputs": [],
   "source": [
    "from sklearn.datasets import make_blobs #D ataset generation\n",
    "import matplotlib.pyplot as plt # Plotting\n",
    "from artlib import ART1 # ART1"
   ]
  },
  {
   "cell_type": "markdown",
   "metadata": {},
   "source": [
    "# Dataset Generation\n",
    "ART1 (Adaptive Resonance Theory 1) operates on input vectors composed of binary values (0s and 1s).\n",
    "\n",
    "In the example below, we use `sklearn` to generate a dataset consisting of 150 input vectors, each of length 2.  \n",
    "To convert these input vectors into binary form, we round each element to the nearest integer (0 or 1)."
   ]
  },
  {
   "cell_type": "code",
   "execution_count": 13,
   "metadata": {},
   "outputs": [
    {
     "name": "stdout",
     "output_type": "stream",
     "text": [
      "Data has shape: (150, 2)\n"
     ]
    }
   ],
   "source": [
    "data, target = make_blobs(n_samples=150, centers=3, cluster_std=0.50, random_state=0, shuffle=False)\n",
    "data =  ( data > 0.5).astype(int)\n",
    "print(\"Data has shape:\", data.shape)"
   ]
  },
  {
   "cell_type": "markdown",
   "metadata": {},
   "source": [
    "## Clustering with ART1\n",
    "\n",
    "In the example below, we initialize the ART1 model with specific parameters:\n",
    "\n",
    "- `rho` (vigilance parameter): Determines how similar input vectors must be to be grouped in the same cluster.\n",
    "- `beta`: The learning rate that influences how fast the network learns.\n",
    "- `L`: A scaling factor that impacts category formation.\n",
    "\n",
    "We prepare the data for input into the ART1 model using the `prepare_data` method, and then fit the model and predict cluster assignments with `fit_predict`.\n",
    "\n",
    "After the clustering process, we can visualize the clusters using the `visualize` method."
   ]
  },
  {
   "cell_type": "code",
   "execution_count": 14,
   "metadata": {},
   "outputs": [
    {
     "name": "stdout",
     "output_type": "stream",
     "text": [
      "Prepared data has shape: (150, 2)\n",
      "3 clusters found\n"
     ]
    },
    {
     "name": "stderr",
     "output_type": "stream",
     "text": [
      "/home/thomas/AdaptiveResonanceLib/artlib/common/BaseART.py:591: UserWarning: ART1 does not support plotting cluster bounds.\n",
      "  warn(f\"{self.__class__.__name__} does not support plotting cluster bounds.\")\n"
     ]
    },
    {
     "data": {
      "image/png": "[encoded data removed]",
      "text/plain": [
       "<Figure size 640x480 with 1 Axes>"
      ]
     },
     "metadata": {},
     "output_type": "display_data"
    }
   ],
   "source": [
    "params = {\n",
    "    \"rho\": 0.7,\n",
    "    \"beta\": 1.0,\n",
    "    \"L\": 1.0\n",
    "}\n",
    "cls = ART1(**params)\n",
    "X = cls.prepare_data(data)\n",
    "print(\"Prepared data has shape:\", X.shape)\n",
    "\n",
    "y = cls.fit_predict(X)\n",
    "\n",
    "print(f\"{cls.n_clusters} clusters found\")\n",
    "\n",
    "# Graphing\n",
    "cls.visualize(X, y)\n",
    "plt.show()"
   ]
  }
 ],
 "metadata": {
  "kernelspec": {
   "display_name": "base",
   "language": "python",
   "name": "python3"
  },
  "language_info": {
   "codemirror_mode": {
    "name": "ipython",
    "version": 3
   },
   "file_extension": ".py",
   "mimetype": "text/x-python",
   "name": "python",
   "nbconvert_exporter": "python",
   "pygments_lexer": "ipython3",
   "version": "3.12.5"
  }
 },
 "nbformat": 4,
 "nbformat_minor": 2
}
