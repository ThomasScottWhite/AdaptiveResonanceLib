{
 "cells": [
  {
   "cell_type": "code",
   "execution_count": null,
   "metadata": {
    "vscode": {
     "languageId": "plaintext"
    }
   },
   "outputs": [],
   "source": [
    "from sklearn.datasets import make_blobs\n",
    "import matplotlib.pyplot as plt\n",
    "import numpy as np\n",
    "\n",
    "from artlib import GaussianART\n",
    "\n",
    "\n",
    "def cluster_blobs():\n",
    "    data, target = make_blobs(n_samples=150, centers=3, cluster_std=0.50, random_state=0, shuffle=False)\n",
    "    print(\"Data has shape:\", data.shape)\n",
    "\n",
    "    params = {\n",
    "        \"rho\": 0.05,\n",
    "        \"sigma_init\": np.array([0.5, 0.5]),\n",
    "    }\n",
    "    cls = GaussianART(**params)\n",
    "\n",
    "    X = cls.prepare_data(data)\n",
    "    print(\"Prepared data has shape:\", X.shape)\n",
    "\n",
    "    y = cls.fit_predict(X)\n",
    "\n",
    "    print(f\"{cls.n_clusters} clusters found\")\n",
    "\n",
    "    cls.visualize(X, y)\n",
    "    plt.show()\n",
    "\n",
    "\n",
    "if __name__ == \"__main__\":\n",
    "    cluster_blobs()"
   ]
  }
 ],
 "metadata": {
  "language_info": {
   "name": "python"
  }
 },
 "nbformat": 4,
 "nbformat_minor": 2
}
