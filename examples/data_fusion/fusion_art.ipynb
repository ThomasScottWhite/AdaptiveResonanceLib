{
 "cells": [
  {
   "cell_type": "code",
   "execution_count": null,
   "metadata": {
    "vscode": {
     "languageId": "plaintext"
    }
   },
   "outputs": [],
   "source": [
    "import numpy as np\n",
    "from sklearn.datasets import make_blobs\n",
    "import matplotlib.pyplot as plt\n",
    "\n",
    "from artlib import FusionART, FuzzyART\n",
    "\n",
    "\n",
    "def cluster_blobs():\n",
    "    data, target = make_blobs(n_samples=150, centers=3, cluster_std=0.50, random_state=0, shuffle=False)\n",
    "    print(\"Data has shape:\", data.shape)\n",
    "\n",
    "    data_channel_a = data[:,0].reshape((-1,1))\n",
    "    data_channel_b = data[:,1].reshape((-1,1))\n",
    "\n",
    "    params = {\n",
    "        \"rho\": 0.5,\n",
    "        \"alpha\": 0.0,\n",
    "        \"beta\": 1.0\n",
    "    }\n",
    "    art_a = FuzzyART(**params)\n",
    "    art_b = FuzzyART(**params)\n",
    "    cls = FusionART([art_a, art_b], gamma_values=np.array([0.5, 0.5]), channel_dims=[2,2])\n",
    "\n",
    "    X_channel_a = art_a.prepare_data(data_channel_a)\n",
    "    X_channel_b = art_b.prepare_data(data_channel_b)\n",
    "\n",
    "    X = cls.join_channel_data(channel_data=[X_channel_a, X_channel_b])\n",
    "    print(\"Prepared data has shape:\", X.shape)\n",
    "\n",
    "    y = cls.fit_predict(X)\n",
    "\n",
    "    print(f\"{cls.n_clusters} clusters found\")\n",
    "\n",
    "    cls.visualize(data, y)\n",
    "    plt.show()\n",
    "\n",
    "\n",
    "if __name__ == \"__main__\":\n",
    "    cluster_blobs()"
   ]
  }
 ],
 "metadata": {
  "language_info": {
   "name": "python"
  }
 },
 "nbformat": 4,
 "nbformat_minor": 2
}
